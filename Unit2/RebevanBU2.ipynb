{
  "nbformat": 4,
  "nbformat_minor": 0,
  "metadata": {
    "colab": {
      "provenance": [],
      "authorship_tag": "ABX9TyNbz5IqAd87qonkiLdwfj9W",
      "include_colab_link": true
    },
    "kernelspec": {
      "name": "python3",
      "display_name": "Python 3"
    },
    "language_info": {
      "name": "python"
    }
  },
  "cells": [
    {
      "cell_type": "markdown",
      "metadata": {
        "id": "view-in-github",
        "colab_type": "text"
      },
      "source": [
        "<a href=\"https://colab.research.google.com/github/Rbca0/Data-Science/blob/main/Unit2/RebevanBU2.ipynb\" target=\"_parent\"><img src=\"https://colab.research.google.com/assets/colab-badge.svg\" alt=\"Open In Colab\"/></a>"
      ]
    },
    {
      "cell_type": "markdown",
      "source": [
        "Context: Rick Riodran is the author of many YA fantasy books including the Percy Jackson and the Olympians, a highly renowned series about an ADHD teenager and his friends fighting monsters from Greek mythology. In an effort to expand the world mythologies included in series' like his, he has started a program called Rick Riordan presents. In RRP, Riordan sponsors authors to write books about different world cultures and they get increased publicicty and editing help. I have not read very many RRP books, but I am curious as to whether any of them are better than the original series."
      ],
      "metadata": {
        "id": "vf0YXMLP5x-5"
      }
    },
    {
      "cell_type": "markdown",
      "source": [
        "Prior: A reasonable guess would be that because Riordan is backing these books, they will be similar in quality to his. My prior is that the books from RRP will be equal in rating to the original Percy Jackson quintet, which is 4.389 stars according to Goodreads. Basically, I am assuming the average rating for the Percy Jackson books is approximately equal to the number of 5 star raings for the RRP books."
      ],
      "metadata": {
        "id": "O9OCWKvc8v7D"
      }
    },
    {
      "cell_type": "markdown",
      "source": [
        "Data: To get binomial data on all Rick Riodan Presents books, I went to Goodreads and recorded the number of ratings with 5 stars for each of the books, 16 total. The 'makes' were all the ratings above 4.38 (only 5) because that was the average from the Percy Jackson books, and the 'misses' were all the ratings under 5 stars. I aggregated the data from each book to find the total proportion of 5 star ratings."
      ],
      "metadata": {
        "id": "OWo5GBSu-FPG"
      }
    },
    {
      "cell_type": "markdown",
      "source": [
        " data for first 5 percy jackson books from goodreads                         \n",
        "4.54 avg rating — 46,380 ratings                                      \n",
        "4.24 avg rating — 1,329,388 ratings                            \n",
        "4.37 avg rating — 1,187,966 ratings                            \n",
        "4.42 avg rating — 1,194,786 ratings                                \n",
        "4.55 avg rating — 1,123,143 ratings                       \n",
        "all data from PJ1-5 star rating(4.54*46380+ 4.24*1329388+ 4.37*1187966+ 4.42*1194786+ 4.55*1123143)/(46380+1329388+1187966+1194786+1123143)=4.38986396849\n",
        "\n",
        "\n",
        "\n",
        "all data from RRP 5 stars (1971+4395+10566+4142+3245+3065+5265+1920+3951+1152+1161+1551+1930+1394+1546+3333)/(4121+10575+28239+10944+12173+7137+11156+5995+7648+3581+2344+3603+4256+2966+2901+5977)=0.40922696091% are better than PJ\n",
        "\n",
        "books in RRP #of 5 stars/total reviews\n",
        "firekeeper 1971/4121                                           \n",
        "tristan 4395/10575                                       \n",
        "aru sha time 10566/28239                                    \n",
        "strom runner 4142/10944                                 \n",
        "dragon pearl 3245/12173                                  \n",
        "sal & gabi 3065/7137                                       \n",
        "song of death 5265/11156                                     \n",
        "race to sun 1920/5995                               \n",
        "tree of wishes 3951/7648                                   \n",
        "paola 1152/3581                                \n",
        "fix uni 1161/2344                                    \n",
        "city plague 1551/3603                           \n",
        "fallen star 1930/4256                              \n",
        "strong world 1394/2866                           \n",
        "The Shadow Crosser 1546/2901                             \n",
        "city of gold 3333/5977                            "
      ],
      "metadata": {
        "id": "XoPP14jNuzYm"
      }
    },
    {
      "cell_type": "code",
      "source": [],
      "metadata": {
        "id": "7zGV6CdGvLIb"
      },
      "execution_count": null,
      "outputs": []
    },
    {
      "cell_type": "markdown",
      "source": [],
      "metadata": {
        "id": "Zz9bQLqrvfrL"
      }
    },
    {
      "cell_type": "code",
      "source": [
        "\n",
        "!pip install preliz\n",
        "import preliz as pz\n",
        "import numpy as np\n",
        "import arviz as az\n",
        "import pymc as pm"
      ],
      "metadata": {
        "colab": {
          "base_uri": "https://localhost:8080/"
        },
        "id": "w68v0DopwFxQ",
        "outputId": "8c23404c-72db-44ef-e2b2-e6d77884bfef"
      },
      "execution_count": null,
      "outputs": [
        {
          "output_type": "stream",
          "name": "stdout",
          "text": [
            "Requirement already satisfied: preliz in /usr/local/lib/python3.12/dist-packages (0.21.0)\n",
            "Requirement already satisfied: arviz_stats>=0.6.0 in /usr/local/lib/python3.12/dist-packages (from preliz) (0.6.0)\n",
            "Requirement already satisfied: matplotlib>=3.8 in /usr/local/lib/python3.12/dist-packages (from preliz) (3.10.0)\n",
            "Requirement already satisfied: numba>=0.59 in /usr/local/lib/python3.12/dist-packages (from preliz) (0.60.0)\n",
            "Requirement already satisfied: numpy>=2.0 in /usr/local/lib/python3.12/dist-packages (from preliz) (2.0.2)\n",
            "Requirement already satisfied: scipy>=1.12 in /usr/local/lib/python3.12/dist-packages (from preliz) (1.16.1)\n",
            "Requirement already satisfied: contourpy>=1.0.1 in /usr/local/lib/python3.12/dist-packages (from matplotlib>=3.8->preliz) (1.3.3)\n",
            "Requirement already satisfied: cycler>=0.10 in /usr/local/lib/python3.12/dist-packages (from matplotlib>=3.8->preliz) (0.12.1)\n",
            "Requirement already satisfied: fonttools>=4.22.0 in /usr/local/lib/python3.12/dist-packages (from matplotlib>=3.8->preliz) (4.59.2)\n",
            "Requirement already satisfied: kiwisolver>=1.3.1 in /usr/local/lib/python3.12/dist-packages (from matplotlib>=3.8->preliz) (1.4.9)\n",
            "Requirement already satisfied: packaging>=20.0 in /usr/local/lib/python3.12/dist-packages (from matplotlib>=3.8->preliz) (25.0)\n",
            "Requirement already satisfied: pillow>=8 in /usr/local/lib/python3.12/dist-packages (from matplotlib>=3.8->preliz) (11.3.0)\n",
            "Requirement already satisfied: pyparsing>=2.3.1 in /usr/local/lib/python3.12/dist-packages (from matplotlib>=3.8->preliz) (3.2.3)\n",
            "Requirement already satisfied: python-dateutil>=2.7 in /usr/local/lib/python3.12/dist-packages (from matplotlib>=3.8->preliz) (2.9.0.post0)\n",
            "Requirement already satisfied: llvmlite<0.44,>=0.43.0dev0 in /usr/local/lib/python3.12/dist-packages (from numba>=0.59->preliz) (0.43.0)\n",
            "Requirement already satisfied: six>=1.5 in /usr/local/lib/python3.12/dist-packages (from python-dateutil>=2.7->matplotlib>=3.8->preliz) (1.17.0)\n"
          ]
        }
      ]
    },
    {
      "cell_type": "code",
      "source": [
        "Rrp_data = np.repeat([1,0], repeats = [50587,73029])"
      ],
      "metadata": {
        "id": "wixe9_JD0XKX"
      },
      "execution_count": null,
      "outputs": []
    },
    {
      "cell_type": "code",
      "source": [
        "with pm.Model() as Rrp_Model:\n",
        "  θ = pm.Beta('θ' , alpha = 43892. , beta =50000.)\n",
        "\n",
        "\n",
        "  y = pm.Bernoulli('y', p = θ, observed = Rrp_data)\n",
        "\n",
        "  ##sample from the posterior, 2000 for a more prcise picture later\n",
        "  idata_Rrp_data = pm.sample(2000)"
      ],
      "metadata": {
        "id": "_XF296J1xEbT",
        "collapsed": true
      },
      "execution_count": null,
      "outputs": []
    },
    {
      "cell_type": "code",
      "source": [
        "az.plot_posterior(idata_Rrp_data)"
      ],
      "metadata": {
        "colab": {
          "base_uri": "https://localhost:8080/",
          "height": 476
        },
        "id": "_F9zQE_p4Bhv",
        "outputId": "1ab3c19a-bf97-4c63-874b-6f3e6775062f"
      },
      "execution_count": null,
      "outputs": [
        {
          "output_type": "execute_result",
          "data": {
            "text/plain": [
              "<Axes: title={'center': 'θ'}>"
            ]
          },
          "metadata": {},
          "execution_count": 30
        },
        {
          "output_type": "display_data",
          "data": {
            "text/plain": [
              "<Figure size 640x480 with 1 Axes>"
            ],
            "image/png": "[encoded data removed]"
          },
          "metadata": {}
        }
      ]
    },
    {
      "cell_type": "markdown",
      "source": [
        "Conclusion: The mean proportion of 5 star ratings for RRP books is most likely .43. My guess was that the proportion was the same as the average star rating for the original Percy Jackson series, which is .4389. These are very similar, likely becuase I weighted the prior pretty heavily in my posterior. Overall, I don't think this is a great model because the proportion of 5 star ratings isn't really that equivalent to the average rating. I don't think a binomial distribtution was the best way to do this because having options for 1 star, 2 stars, etc. would have been a better way to classify the ratings to make them less confusing."
      ],
      "metadata": {
        "id": "AiCQ84xi0W9I"
      }
    }
  ]
}